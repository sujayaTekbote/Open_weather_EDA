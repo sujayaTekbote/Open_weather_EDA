{
 "cells": [
  {
   "cell_type": "code",
   "execution_count": 1,
   "metadata": {},
   "outputs": [],
   "source": [
    "caps=['Hyderabad',\n",
    " 'Patna',\n",
    " 'Agartala',\n",
    " 'Kohima',\n",
    " 'Chandigarh',\n",
    " 'Ranchi',\n",
    " 'Thiruvananthapuram',\n",
    " 'Mumbai',\n",
    " 'Bhubaneswar',\n",
    " 'Chandigarh',\n",
    " 'Panaji',\n",
    " 'Gandhinagar',\n",
    " 'Dispur',\n",
    " 'Amaravati',\n",
    " 'Dehradun',\n",
    " 'Shimla',\n",
    " 'Bhopal',\n",
    " 'Jaipur',\n",
    " 'Aizawl',\n",
    " 'Srinagar',\n",
    " 'Kolkata',\n",
    " 'Raipur',\n",
    " 'Chennai',\n",
    " 'Lucknow',\n",
    " 'Gangtok',\n",
    " 'Itanagar',\n",
    " 'Bangalore',\n",
    " 'Shillong',\n",
    " 'Davanagere',\n",
    " 'Shimoga',\n",
    " 'Channagiri',\n",
    " 'Kathmandu',\n",
    " 'Pokhara',\n",
    " 'kalaiya',\n",
    " 'Birgunj',\n",
    " 'Imphal']"
   ]
  },
  {
   "cell_type": "code",
   "execution_count": 2,
   "metadata": {},
   "outputs": [
    {
     "name": "stdout",
     "output_type": "stream",
     "text": [
      "1\n",
      "City Name: Hyderabad\n",
      "Temperature: 307.32\n",
      "Weather: Clear\n",
      "2\n",
      "City Name: Patna\n",
      "Temperature: 299.15\n",
      "Weather: Haze\n",
      "3\n",
      "City Name: Agartala\n",
      "Temperature: 302.15\n",
      "Weather: Haze\n",
      "4\n",
      "City Name: Kohima\n",
      "Temperature: 289.148\n",
      "Weather: Clouds\n",
      "5\n",
      "City Name: Chandigarh\n",
      "Temperature: 294.803\n",
      "Weather: Clear\n",
      "6\n",
      "City Name: Ranchi\n",
      "Temperature: 299.15\n",
      "Weather: Haze\n",
      "7\n",
      "City Name: Thiruvananthapuram\n",
      "Temperature: 305.15\n",
      "Weather: Clouds\n",
      "8\n",
      "City Name: Mumbai\n",
      "Temperature: 300.65\n",
      "Weather: Smoke\n",
      "9\n",
      "City Name: Bhubaneswar\n",
      "Temperature: 305.15\n",
      "Weather: Haze\n",
      "10\n",
      "City Name: Chandigarh\n",
      "Temperature: 294.803\n",
      "Weather: Clear\n",
      "11\n",
      "City Name: Panaji\n",
      "Temperature: 302.15\n",
      "Weather: Clear\n",
      "12\n",
      "City Name: Gandhinagar\n",
      "Temperature: 304.15\n",
      "Weather: Clear\n",
      "13\n",
      "City Name: Dispur\n",
      "Temperature: 301.15\n",
      "Weather: Haze\n",
      "14\n",
      "City Name: Amaravati\n",
      "Temperature: 307.15\n",
      "Weather: Clear\n",
      "15\n",
      "City Name: Dehradun\n",
      "Temperature: 297.15\n",
      "Weather: Haze\n",
      "16\n",
      "City Name: Shimla\n",
      "Temperature: 278.998\n",
      "Weather: Rain\n",
      "17\n",
      "City Name: Bhopal\n",
      "Temperature: 300.15\n",
      "Weather: Clear\n",
      "18\n",
      "City Name: Jaipur\n",
      "Temperature: 299.15\n",
      "Weather: Clouds\n",
      "19\n",
      "City Name: Aizawl\n",
      "Temperature: 299.15\n",
      "Weather: Haze\n",
      "20\n",
      "City Name: Srinagar\n",
      "Temperature: 273.653\n",
      "Weather: Clouds\n",
      "21\n",
      "City Name: Kolkata\n",
      "Temperature: 302.15\n",
      "Weather: Haze\n",
      "22\n",
      "City Name: Raipur\n",
      "Temperature: 303.15\n",
      "Weather: Clouds\n",
      "23\n",
      "City Name: Chennai\n",
      "Temperature: 304.87\n",
      "Weather: Clear\n",
      "24\n",
      "City Name: Lucknow\n",
      "Temperature: 297.15\n",
      "Weather: Haze\n",
      "25\n",
      "City Name: Gangtok\n",
      "Temperature: 269.898\n",
      "Weather: Clouds\n",
      "26\n",
      "City Name: Itanagar\n",
      "Temperature: 296.15\n",
      "Weather: Haze\n",
      "27\n",
      "City Name: Bangalore\n",
      "Temperature: 307.05\n",
      "Weather: Clouds\n",
      "28\n",
      "City Name: Shillong\n",
      "Temperature: 301.15\n",
      "Weather: Haze\n",
      "29\n",
      "City Name: Davanagere\n",
      "Temperature: 305.098\n",
      "Weather: Clear\n",
      "30\n",
      "City Name: Shimoga\n",
      "Temperature: 305.423\n",
      "Weather: Clear\n",
      "31\n",
      "City Name: Channagiri\n",
      "Temperature: 305.348\n",
      "Weather: Clear\n",
      "32\n",
      "City Name: Kathmandu\n",
      "Temperature: 293.15\n",
      "Weather: Clouds\n",
      "33\n",
      "City Name: Pokhara\n",
      "Temperature: 285.398\n",
      "Weather: Clouds\n",
      "34\n",
      "City Name: Kalaiya\n",
      "Temperature: 298.523\n",
      "Weather: Clear\n",
      "35\n",
      "City Name: Birgunj\n",
      "Temperature: 299.048\n",
      "Weather: Clear\n",
      "36\n",
      "City Name: Imphal\n",
      "Temperature: 295.15\n",
      "Weather: Haze\n"
     ]
    }
   ],
   "source": [
    "import requests\n",
    "import json\n",
    "temp = []\n",
    "city = []\n",
    "weather = []\n",
    "k = 0\n",
    "for i in caps:\n",
    "    z=requests.get('http://api.openweathermap.org/data/2.5/weather?q='+i+'&APPID=f675b1bbb035e26b113a0f39669e2001')\n",
    "    dic=json.loads(z.content.decode())\n",
    "    if dic['cod'] == 200:\n",
    "        k+=1\n",
    "        print(k)\n",
    "        print('City Name:',dic['name'])\n",
    "        print('Temperature:',dic['main']['temp'])\n",
    "        print('Weather:',dic['weather'][0]['main'])\n",
    "        temp.append(dic['main']['temp'])\n",
    "        city.append(dic['name'])\n",
    "        weather.append(dic['weather'][0]['main'])\n",
    "        \n",
    "    else:\n",
    "        print(i,'Spelling is Incorrect')\n",
    "  "
   ]
  },
  {
   "cell_type": "code",
   "execution_count": 5,
   "metadata": {},
   "outputs": [
    {
     "data": {
      "text/plain": [
       "<Figure size 1000x1000 with 1 Axes>"
      ]
     },
     "metadata": {},
     "output_type": "display_data"
    }
   ],
   "source": [
    "import matplotlib.pyplot as plt\n",
    "plt.figure(figsize=(10,10))\n",
    "plt.plot(temp,city,color='green', linestyle='dashed', linewidth = 3, \n",
    "         marker='o', markerfacecolor='blue', markersize=10)\n",
    "plt.xlabel('Temperature In Kelvin(K)')\n",
    "plt.ylabel('State Capitals Of India')\n",
    "plt.title('Temperature Variation By State Capitals Of IN')\n",
    "plt.show()"
   ]
  },
  {
   "cell_type": "code",
   "execution_count": 6,
   "metadata": {},
   "outputs": [
    {
     "data": {
      "image/png": "[encoded data removed]",
      "text/plain": [
       "<Figure size 720x720 with 1 Axes>"
      ]
     },
     "metadata": {
      "needs_background": "light"
     },
     "output_type": "display_data"
    }
   ],
   "source": [
    "import matplotlib.pyplot as plt\n",
    "plt.figure(figsize=(10,10))\n",
    "plt.barh(city,temp)\n",
    "plt.xlabel('Temperature In Kelvin(K)')\n",
    "plt.ylabel('State Capitals Of India')\n",
    "plt.title('Temperature Variation By State Capitals Of IN')\n",
    "plt.show()"
   ]
  },
  {
   "cell_type": "code",
   "execution_count": 7,
   "metadata": {},
   "outputs": [
    {
     "data": {
      "image/png": "[encoded data removed]",
      "text/plain": [
       "<Figure size 720x720 with 1 Axes>"
      ]
     },
     "metadata": {
      "needs_background": "light"
     },
     "output_type": "display_data"
    }
   ],
   "source": [
    "import matplotlib.pyplot as plt\n",
    "plt.figure(figsize=(10,10))\n",
    "#plt.scatter(temp,city,color='green', linestyle='', linewidth = 3, \n",
    " #        marker='o', markerfacecolor='blue', markersize=10)\n",
    "plt.scatter(temp,city,marker='*')\n",
    "plt.xlabel('Temperature In Kelvin(K)')\n",
    "plt.ylabel('State Capitals Of India')\n",
    "plt.title('Temperature Variation By State Capitals Of IN')\n",
    "plt.show()"
   ]
  },
  {
   "cell_type": "code",
   "execution_count": 8,
   "metadata": {},
   "outputs": [
    {
     "data": {
      "text/plain": [
       "([0, 1, 2, 3, 4, 5], <a list of 6 Text xticklabel objects>)"
      ]
     },
     "execution_count": 8,
     "metadata": {},
     "output_type": "execute_result"
    },
    {
     "data": {
      "image/png": "[encoded data removed]",
      "text/plain": [
       "<Figure size 432x288 with 1 Axes>"
      ]
     },
     "metadata": {
      "needs_background": "light"
     },
     "output_type": "display_data"
    }
   ],
   "source": [
    "\n",
    "plt.hist(weather,color='green')\n",
    "plt.title('Types Of Weather')\n",
    "plt.xlabel('Weather Counts')\n",
    "plt.ylabel('Count of cities')\n",
    "plt.xticks(rotation=45)"
   ]
  },
  {
   "cell_type": "code",
   "execution_count": 9,
   "metadata": {},
   "outputs": [],
   "source": [
    "sets = list(set(weather))"
   ]
  },
  {
   "cell_type": "code",
   "execution_count": 10,
   "metadata": {},
   "outputs": [
    {
     "data": {
      "text/plain": [
       "['Rain', 'Smoke', 'Mist', 'Clear', 'Haze', 'Clouds']"
      ]
     },
     "execution_count": 10,
     "metadata": {},
     "output_type": "execute_result"
    }
   ],
   "source": [
    "sets"
   ]
  },
  {
   "cell_type": "code",
   "execution_count": 11,
   "metadata": {},
   "outputs": [
    {
     "name": "stdout",
     "output_type": "stream",
     "text": [
      "36\n"
     ]
    }
   ],
   "source": [
    "print(len(city))"
   ]
  },
  {
   "cell_type": "code",
   "execution_count": 12,
   "metadata": {},
   "outputs": [],
   "source": [
    "dct = {'City': city,'Temp': temp,'Weather':weather}"
   ]
  },
  {
   "cell_type": "code",
   "execution_count": 13,
   "metadata": {},
   "outputs": [],
   "source": [
    "import pandas as pd\n",
    "data = pd.DataFrame(dct)"
   ]
  },
  {
   "cell_type": "code",
   "execution_count": 14,
   "metadata": {},
   "outputs": [
    {
     "data": {
      "text/html": [
       "<div>\n",
       "<style scoped>\n",
       "    .dataframe tbody tr th:only-of-type {\n",
       "        vertical-align: middle;\n",
       "    }\n",
       "\n",
       "    .dataframe tbody tr th {\n",
       "        vertical-align: top;\n",
       "    }\n",
       "\n",
       "    .dataframe thead th {\n",
       "        text-align: right;\n",
       "    }\n",
       "</style>\n",
       "<table border=\"1\" class=\"dataframe\">\n",
       "  <thead>\n",
       "    <tr style=\"text-align: right;\">\n",
       "      <th></th>\n",
       "      <th>Temp</th>\n",
       "    </tr>\n",
       "    <tr>\n",
       "      <th>Weather</th>\n",
       "      <th></th>\n",
       "    </tr>\n",
       "  </thead>\n",
       "  <tbody>\n",
       "    <tr>\n",
       "      <th>Clear</th>\n",
       "      <td>285.3524</td>\n",
       "    </tr>\n",
       "    <tr>\n",
       "      <th>Clouds</th>\n",
       "      <td>288.3185</td>\n",
       "    </tr>\n",
       "    <tr>\n",
       "      <th>Haze</th>\n",
       "      <td>295.1500</td>\n",
       "    </tr>\n",
       "    <tr>\n",
       "      <th>Mist</th>\n",
       "      <td>294.6500</td>\n",
       "    </tr>\n",
       "    <tr>\n",
       "      <th>Rain</th>\n",
       "      <td>285.6370</td>\n",
       "    </tr>\n",
       "    <tr>\n",
       "      <th>Smoke</th>\n",
       "      <td>294.1500</td>\n",
       "    </tr>\n",
       "  </tbody>\n",
       "</table>\n",
       "</div>"
      ],
      "text/plain": [
       "             Temp\n",
       "Weather          \n",
       "Clear    285.3524\n",
       "Clouds   288.3185\n",
       "Haze     295.1500\n",
       "Mist     294.6500\n",
       "Rain     285.6370\n",
       "Smoke    294.1500"
      ]
     },
     "execution_count": 14,
     "metadata": {},
     "output_type": "execute_result"
    }
   ],
   "source": [
    "data.groupby('Weather').mean()"
   ]
  },
  {
   "cell_type": "code",
   "execution_count": 15,
   "metadata": {},
   "outputs": [
    {
     "data": {
      "text/html": [
       "<div>\n",
       "<style scoped>\n",
       "    .dataframe tbody tr th:only-of-type {\n",
       "        vertical-align: middle;\n",
       "    }\n",
       "\n",
       "    .dataframe tbody tr th {\n",
       "        vertical-align: top;\n",
       "    }\n",
       "\n",
       "    .dataframe thead tr th {\n",
       "        text-align: left;\n",
       "    }\n",
       "\n",
       "    .dataframe thead tr:last-of-type th {\n",
       "        text-align: right;\n",
       "    }\n",
       "</style>\n",
       "<table border=\"1\" class=\"dataframe\">\n",
       "  <thead>\n",
       "    <tr>\n",
       "      <th></th>\n",
       "      <th colspan=\"8\" halign=\"left\">Temp</th>\n",
       "    </tr>\n",
       "    <tr>\n",
       "      <th></th>\n",
       "      <th>count</th>\n",
       "      <th>mean</th>\n",
       "      <th>std</th>\n",
       "      <th>min</th>\n",
       "      <th>25%</th>\n",
       "      <th>50%</th>\n",
       "      <th>75%</th>\n",
       "      <th>max</th>\n",
       "    </tr>\n",
       "    <tr>\n",
       "      <th>Weather</th>\n",
       "      <th></th>\n",
       "      <th></th>\n",
       "      <th></th>\n",
       "      <th></th>\n",
       "      <th></th>\n",
       "      <th></th>\n",
       "      <th></th>\n",
       "      <th></th>\n",
       "    </tr>\n",
       "  </thead>\n",
       "  <tbody>\n",
       "    <tr>\n",
       "      <th>Clear</th>\n",
       "      <td>15.0</td>\n",
       "      <td>285.3524</td>\n",
       "      <td>8.862781</td>\n",
       "      <td>265.637</td>\n",
       "      <td>280.4620</td>\n",
       "      <td>287.662</td>\n",
       "      <td>291.7245</td>\n",
       "      <td>296.930</td>\n",
       "    </tr>\n",
       "    <tr>\n",
       "      <th>Clouds</th>\n",
       "      <td>6.0</td>\n",
       "      <td>288.3185</td>\n",
       "      <td>12.829956</td>\n",
       "      <td>267.637</td>\n",
       "      <td>283.6905</td>\n",
       "      <td>288.387</td>\n",
       "      <td>298.0155</td>\n",
       "      <td>302.150</td>\n",
       "    </tr>\n",
       "    <tr>\n",
       "      <th>Haze</th>\n",
       "      <td>7.0</td>\n",
       "      <td>295.1500</td>\n",
       "      <td>5.033223</td>\n",
       "      <td>289.150</td>\n",
       "      <td>291.6500</td>\n",
       "      <td>293.150</td>\n",
       "      <td>299.1500</td>\n",
       "      <td>302.150</td>\n",
       "    </tr>\n",
       "    <tr>\n",
       "      <th>Mist</th>\n",
       "      <td>4.0</td>\n",
       "      <td>294.6500</td>\n",
       "      <td>3.000000</td>\n",
       "      <td>292.150</td>\n",
       "      <td>292.1500</td>\n",
       "      <td>294.150</td>\n",
       "      <td>296.6500</td>\n",
       "      <td>298.150</td>\n",
       "    </tr>\n",
       "    <tr>\n",
       "      <th>Rain</th>\n",
       "      <td>3.0</td>\n",
       "      <td>285.6370</td>\n",
       "      <td>2.091202</td>\n",
       "      <td>283.412</td>\n",
       "      <td>284.6745</td>\n",
       "      <td>285.937</td>\n",
       "      <td>286.7495</td>\n",
       "      <td>287.562</td>\n",
       "    </tr>\n",
       "    <tr>\n",
       "      <th>Smoke</th>\n",
       "      <td>1.0</td>\n",
       "      <td>294.1500</td>\n",
       "      <td>NaN</td>\n",
       "      <td>294.150</td>\n",
       "      <td>294.1500</td>\n",
       "      <td>294.150</td>\n",
       "      <td>294.1500</td>\n",
       "      <td>294.150</td>\n",
       "    </tr>\n",
       "  </tbody>\n",
       "</table>\n",
       "</div>"
      ],
      "text/plain": [
       "         Temp                                                             \\\n",
       "        count      mean        std      min       25%      50%       75%   \n",
       "Weather                                                                    \n",
       "Clear    15.0  285.3524   8.862781  265.637  280.4620  287.662  291.7245   \n",
       "Clouds    6.0  288.3185  12.829956  267.637  283.6905  288.387  298.0155   \n",
       "Haze      7.0  295.1500   5.033223  289.150  291.6500  293.150  299.1500   \n",
       "Mist      4.0  294.6500   3.000000  292.150  292.1500  294.150  296.6500   \n",
       "Rain      3.0  285.6370   2.091202  283.412  284.6745  285.937  286.7495   \n",
       "Smoke     1.0  294.1500        NaN  294.150  294.1500  294.150  294.1500   \n",
       "\n",
       "                  \n",
       "             max  \n",
       "Weather           \n",
       "Clear    296.930  \n",
       "Clouds   302.150  \n",
       "Haze     302.150  \n",
       "Mist     298.150  \n",
       "Rain     287.562  \n",
       "Smoke    294.150  "
      ]
     },
     "execution_count": 15,
     "metadata": {},
     "output_type": "execute_result"
    }
   ],
   "source": [
    "data.groupby('Weather').describe()"
   ]
  },
  {
   "cell_type": "code",
   "execution_count": 16,
   "metadata": {},
   "outputs": [
    {
     "data": {
      "text/plain": [
       "7"
      ]
     },
     "execution_count": 16,
     "metadata": {},
     "output_type": "execute_result"
    }
   ],
   "source": [
    "weather.count('Haze')"
   ]
  }
 ],
 "metadata": {
  "kernelspec": {
   "display_name": "Python 3",
   "language": "python",
   "name": "python3"
  },
  "language_info": {
   "codemirror_mode": {
    "name": "ipython",
    "version": 3
   },
   "file_extension": ".py",
   "mimetype": "text/x-python",
   "name": "python",
   "nbconvert_exporter": "python",
   "pygments_lexer": "ipython3",
   "version": "3.6.7"
  }
 },
 "nbformat": 4,
 "nbformat_minor": 2
}
